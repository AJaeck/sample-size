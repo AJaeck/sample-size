{
 "cells": [
  {
   "cell_type": "markdown",
   "metadata": {
    "pycharm": {
     "name": "#%% md\n"
    }
   },
   "source": [
    "# Sample Size Calculation\n",
    "## Introduction\n",
    "- The study measures NfL levels at multiple time points in Patients with Progressive Supranuclear Palsy (PSP) to investigate the effects of GPB on these levels\n",
    "- The primary analysis compares the change in NfL levels between visit 1 and visit 5 in both treatment groups, using a difference of differences approach\n",
    "- This method allows for the comparison of the relative changes in NfL levels between visit 5 and visit 1 in the two treatment groups, while accounting for individual biomarker trajectories of study participants\n",
    "\n",
    "### Goal\n",
    "- To detect the anticipated difference in NfL levels with a power of 80% at a 5% significance level, the sample size of patients per group needs to be estimated.\n",
    "- The calculation is based on an age-adjusted mean and standard deviation derived from a known PSP patient cohort.\n",
    "\n",
    "### References\n",
    "- Lund and London Cohort Reference: <a href=\"https://pubmed.ncbi.nlm.nih.gov/34099648/\">A multicentre validation study of the diagnostic value of plasma neurofilament light (Astton et al., 2021)</a>\n",
    "- Normal NfL: <a href=\"https://www.nature.com/articles/s41467-020-14612-6\">Serum neurofilament light levels in normal aging and their association with morphologic brain changes (Khalil et al., 2020)</a>\n",
    "\n",
    "<img src=\"../figures/Percentile_ranges_of_sNfL.png\" style=\"width:300px; float: right; margin: 0 40px 40px 40px;\"></img>\n",
    "\n",
    "<h3 style=\"color: red;\">Problem</h3>\n",
    "<ul>\n",
    "<li>Initially, our aim was to adjust the mean NfL levels to those observed in a normal aging cohort (Image left).</li>\n",
    "<li>However, as NfL was measured in serum and not plasma, we instead adjusted the mean to the plasma levels of the control group from Ashton et al. (see references).</li>\n",
    "</ul>\n",
    "\n",
    "### Data Sources\n",
    "- <a href=\"https://static-content.springer.com/esm/art%3A10.1038%2Fs41467-021-23620-z/MediaObjects/41467_2021_23620_MOESM3_ESM.xlsx\">Raw Data Lund and London Cohort</a>\n",
    "\n"
   ]
  },
  {
   "cell_type": "code",
   "execution_count": 41,
   "metadata": {
    "pycharm": {
     "name": "#%%\n"
    }
   },
   "outputs": [],
   "source": [
    "import pandas as pd\n",
    "import seaborn as sns\n",
    "from IPython.display import display"
   ]
  },
  {
   "cell_type": "markdown",
   "metadata": {
    "pycharm": {
     "name": "#%% md\n"
    }
   },
   "source": [
    "## Load dataset\n",
    "- Read excel data table and transform to pandas dataframe"
   ]
  },
  {
   "cell_type": "code",
   "execution_count": 42,
   "metadata": {
    "pycharm": {
     "name": "#%%\n"
    }
   },
   "outputs": [
    {
     "name": "stdout",
     "output_type": "stream",
     "text": [
      "     Cohort    Group  Plasma_NfL\n",
      "0      Lund      PSP     25.2422\n",
      "1      Lund      PSP     32.0351\n",
      "2      Lund      PSP     33.2701\n",
      "3      Lund      PSP     40.3717\n",
      "4      Lund      PSP     47.7821\n",
      "..      ...      ...         ...\n",
      "428  London  Control     78.1817\n",
      "429  London  Control     85.7133\n",
      "430  London  Control    103.7206\n",
      "431  London  Control    136.3652\n",
      "432  London  Control    156.6321\n",
      "\n",
      "[433 rows x 3 columns]\n"
     ]
    }
   ],
   "source": [
    "df = pd.read_excel(\"../data/raw_data_nfl_psp.xlsx\")\n",
    "print(df)"
   ]
  },
  {
   "cell_type": "markdown",
   "metadata": {
    "pycharm": {
     "name": "#%% md\n"
    }
   },
   "source": [
    "## View Mean and SD\n",
    "- Calculate SD and Mean values for PSP and Control data in both Lund and London cohort\n",
    "- Print output"
   ]
  },
  {
   "cell_type": "code",
   "execution_count": 43,
   "metadata": {
    "pycharm": {
     "name": "#%%\n"
    }
   },
   "outputs": [
    {
     "name": "stdout",
     "output_type": "stream",
     "text": [
      "Mean Values\n"
     ]
    },
    {
     "data": {
      "text/plain": "                Plasma_NfL\nGroup   Cohort            \nControl London   31.232323\n        Lund     22.519377\nPSP     London   72.719368\n        Lund     83.598921",
      "text/html": "<div>\n<style scoped>\n    .dataframe tbody tr th:only-of-type {\n        vertical-align: middle;\n    }\n\n    .dataframe tbody tr th {\n        vertical-align: top;\n    }\n\n    .dataframe thead th {\n        text-align: right;\n    }\n</style>\n<table border=\"1\" class=\"dataframe\">\n  <thead>\n    <tr style=\"text-align: right;\">\n      <th></th>\n      <th></th>\n      <th>Plasma_NfL</th>\n    </tr>\n    <tr>\n      <th>Group</th>\n      <th>Cohort</th>\n      <th></th>\n    </tr>\n  </thead>\n  <tbody>\n    <tr>\n      <th rowspan=\"2\" valign=\"top\">Control</th>\n      <th>London</th>\n      <td>31.232323</td>\n    </tr>\n    <tr>\n      <th>Lund</th>\n      <td>22.519377</td>\n    </tr>\n    <tr>\n      <th rowspan=\"2\" valign=\"top\">PSP</th>\n      <th>London</th>\n      <td>72.719368</td>\n    </tr>\n    <tr>\n      <th>Lund</th>\n      <td>83.598921</td>\n    </tr>\n  </tbody>\n</table>\n</div>"
     },
     "metadata": {},
     "output_type": "display_data"
    },
    {
     "name": "stdout",
     "output_type": "stream",
     "text": [
      "\n",
      "SD Values\n"
     ]
    },
    {
     "data": {
      "text/plain": "                Plasma_NfL\nGroup   Cohort            \nControl London   17.149753\n        Lund     10.655829\nPSP     London   38.534858\n        Lund     41.459676",
      "text/html": "<div>\n<style scoped>\n    .dataframe tbody tr th:only-of-type {\n        vertical-align: middle;\n    }\n\n    .dataframe tbody tr th {\n        vertical-align: top;\n    }\n\n    .dataframe thead th {\n        text-align: right;\n    }\n</style>\n<table border=\"1\" class=\"dataframe\">\n  <thead>\n    <tr style=\"text-align: right;\">\n      <th></th>\n      <th></th>\n      <th>Plasma_NfL</th>\n    </tr>\n    <tr>\n      <th>Group</th>\n      <th>Cohort</th>\n      <th></th>\n    </tr>\n  </thead>\n  <tbody>\n    <tr>\n      <th rowspan=\"2\" valign=\"top\">Control</th>\n      <th>London</th>\n      <td>17.149753</td>\n    </tr>\n    <tr>\n      <th>Lund</th>\n      <td>10.655829</td>\n    </tr>\n    <tr>\n      <th rowspan=\"2\" valign=\"top\">PSP</th>\n      <th>London</th>\n      <td>38.534858</td>\n    </tr>\n    <tr>\n      <th>Lund</th>\n      <td>41.459676</td>\n    </tr>\n  </tbody>\n</table>\n</div>"
     },
     "metadata": {},
     "output_type": "display_data"
    }
   ],
   "source": [
    "mean = df.groupby(['Group', \"Cohort\"]).mean()\n",
    "sd = df.groupby(['Group', \"Cohort\"]).std()\n",
    "print(\"Mean Values\")\n",
    "display(mean)\n",
    "print(\"\")\n",
    "print(\"SD Values\")\n",
    "display(sd)"
   ]
  },
  {
   "cell_type": "markdown",
   "metadata": {
    "pycharm": {
     "name": "#%% md\n"
    }
   },
   "source": [
    "## Plot original dataset\n",
    "\n",
    "- The boxplot shows the quartiles of the dataset while the whiskers extend to show the rest of the distribution, except for points that are determined to be “outliers” using a method that is a function of the interquartile range.\n",
    "- Data in figure presented as in original publication (see references)"
   ]
  },
  {
   "cell_type": "code",
   "execution_count": 44,
   "metadata": {
    "pycharm": {
     "name": "#%%\n"
    }
   },
   "outputs": [
    {
     "data": {
      "text/plain": "<Figure size 640x480 with 1 Axes>",
      "image/png": "[encoded data removed]"
     },
     "metadata": {},
     "output_type": "display_data"
    }
   ],
   "source": [
    "def df_boxplot():\n",
    "    sns.set_theme(style=\"whitegrid\", palette=['#83c5be','#fb8b24'])\n",
    "    sns.boxplot(\n",
    "        x=\"Cohort\", y=\"Plasma_NfL\", hue=\"Group\", hue_order=['Control', \"PSP\"], data=df, linewidth=1.0, width=.5,\n",
    "        flierprops={\"marker\": \"o\", \"markersize\": 2},\n",
    "    ).set(\n",
    "    ylabel='Plasma NfL (pg/ml)'\n",
    ")\n",
    "\n",
    "df_boxplot()"
   ]
  },
  {
   "cell_type": "markdown",
   "metadata": {
    "pycharm": {
     "name": "#%% md\n"
    }
   },
   "source": [
    "## Calculate Mean and SD for PSP pnly\n",
    "\n",
    "### Filter Dataframe\n",
    "- Remove control values"
   ]
  },
  {
   "cell_type": "code",
   "execution_count": 45,
   "metadata": {
    "pycharm": {
     "name": "#%%\n"
    }
   },
   "outputs": [
    {
     "name": "stdout",
     "output_type": "stream",
     "text": [
      "    Cohort Group  Plasma_NfL\n",
      "0     Lund   PSP     25.2422\n",
      "1     Lund   PSP     32.0351\n",
      "2     Lund   PSP     33.2701\n",
      "3     Lund   PSP     40.3717\n",
      "4     Lund   PSP     47.7821\n",
      "5     Lund   PSP     53.6487\n",
      "6     Lund   PSP     60.7503\n",
      "7     Lund   PSP     62.2941\n",
      "8     Lund   PSP     62.9116\n",
      "9     Lund   PSP     63.2204\n",
      "10    Lund   PSP     65.3817\n",
      "11    Lund   PSP     68.7782\n",
      "12    Lund   PSP     71.2483\n",
      "13    Lund   PSP     71.8658\n",
      "14    Lund   PSP     73.4097\n",
      "15    Lund   PSP     75.2622\n",
      "16    Lund   PSP     76.8061\n",
      "17    Lund   PSP     78.6587\n",
      "18    Lund   PSP     82.3639\n",
      "19    Lund   PSP     84.5252\n",
      "20    Lund   PSP     89.1567\n",
      "21    Lund   PSP     90.0830\n",
      "22    Lund   PSP    104.2862\n",
      "23    Lund   PSP    158.9377\n",
      "24    Lund   PSP    120.0333\n",
      "25    Lund   PSP    134.8540\n",
      "26    Lund   PSP    139.4855\n",
      "27    Lund   PSP    154.6150\n",
      "28    Lund   PSP    203.0912\n",
      "29  London   PSP     18.5600\n",
      "30  London   PSP     30.8000\n",
      "31  London   PSP     34.6800\n",
      "32  London   PSP     38.0740\n",
      "33  London   PSP     42.6400\n",
      "34  London   PSP     50.4000\n",
      "35  London   PSP     58.8000\n",
      "36  London   PSP     62.4000\n",
      "37  London   PSP     63.2800\n",
      "38  London   PSP     66.6400\n",
      "39  London   PSP     66.8800\n",
      "40  London   PSP     77.0570\n",
      "41  London   PSP     80.5260\n",
      "42  London   PSP     85.0320\n",
      "43  London   PSP     87.0830\n",
      "44  London   PSP     97.2000\n",
      "45  London   PSP     98.4240\n",
      "46  London   PSP    157.6000\n",
      "47  London   PSP    165.5920\n"
     ]
    }
   ],
   "source": [
    "df_psp = df[df[\"Group\"] == \"PSP\"]\n",
    "print(df_psp)"
   ]
  },
  {
   "cell_type": "markdown",
   "metadata": {
    "pycharm": {
     "name": "#%% md\n"
    }
   },
   "source": [
    "### Calculate Values\n",
    "- Group by Cohort and calculate sd and mean for plasma NfL Values\n",
    "- Rename Columns accordingly and display as table"
   ]
  },
  {
   "cell_type": "code",
   "execution_count": 46,
   "metadata": {
    "pycharm": {
     "name": "#%%\n"
    }
   },
   "outputs": [
    {
     "data": {
      "text/plain": "        Mean pNfL    SD pNfL\nCohort                      \nLondon  72.719368  38.534858\nLund    83.598921  41.459676",
      "text/html": "<div>\n<style scoped>\n    .dataframe tbody tr th:only-of-type {\n        vertical-align: middle;\n    }\n\n    .dataframe tbody tr th {\n        vertical-align: top;\n    }\n\n    .dataframe thead th {\n        text-align: right;\n    }\n</style>\n<table border=\"1\" class=\"dataframe\">\n  <thead>\n    <tr style=\"text-align: right;\">\n      <th></th>\n      <th>Mean pNfL</th>\n      <th>SD pNfL</th>\n    </tr>\n    <tr>\n      <th>Cohort</th>\n      <th></th>\n      <th></th>\n    </tr>\n  </thead>\n  <tbody>\n    <tr>\n      <th>London</th>\n      <td>72.719368</td>\n      <td>38.534858</td>\n    </tr>\n    <tr>\n      <th>Lund</th>\n      <td>83.598921</td>\n      <td>41.459676</td>\n    </tr>\n  </tbody>\n</table>\n</div>"
     },
     "metadata": {},
     "output_type": "display_data"
    }
   ],
   "source": [
    "aggregated = df_psp.groupby(\"Cohort\")[\"Plasma_NfL\"].agg([\"mean\", \"std\"]) #aggregate the sd and mean function on the Plasma_NfL column\n",
    "aggregated = aggregated.rename(columns={ #rename columns\n",
    "    'mean': 'Mean pNfL',\n",
    "    'std': 'SD pNfL'\n",
    "})\n",
    "display(aggregated)\n",
    "\n"
   ]
  },
  {
   "cell_type": "markdown",
   "metadata": {
    "pycharm": {
     "name": "#%% md\n"
    }
   },
   "source": [
    "## Redfine data plot\n",
    "\n",
    "1. NfL plasma levels in PSP patients in Lund and London cohort represented as swarmplot errorabrs (SD)\n",
    "2. Black dot represents mean value"
   ]
  },
  {
   "cell_type": "code",
   "execution_count": 51,
   "metadata": {
    "pycharm": {
     "name": "#%%\n"
    }
   },
   "outputs": [
    {
     "data": {
      "text/plain": "<Figure size 640x480 with 1 Axes>",
      "image/png": "[encoded data removed]"
     },
     "metadata": {},
     "output_type": "display_data"
    }
   ],
   "source": [
    "from matplotlib import pyplot as plt\n",
    "\n",
    "mean_psp = aggregated['Mean pNfL']\n",
    "sd_psp = aggregated['SD pNfL']\n",
    "\n",
    "def df_swarmplot():\n",
    "\n",
    "    plt.errorbar(range(len(mean_psp)), mean_psp, yerr=sd_psp, capsize=5, color='black', alpha=1,\n",
    "             linewidth=2, linestyle='', marker='o')\n",
    "\n",
    "    sns.swarmplot(\n",
    "        x=\"Cohort\", y=\"Plasma_NfL\", hue=\"Cohort\", data=df_psp, palette=\"pastel\", zorder=1, alpha=0.8, legend=False\n",
    "    ).set(\n",
    "    ylabel='Plasma NfL (pg/ml)'\n",
    ")\n",
    "\n",
    "df_swarmplot()"
   ]
  },
  {
   "cell_type": "markdown",
   "metadata": {
    "pycharm": {
     "name": "#%% md\n"
    }
   },
   "source": [
    "## Results\n",
    "\n",
    "### Mean and SD\n",
    "<table style=\"margin-left:0; width: 750px; height: 200px; text-align: center\">\n",
    "  <tr>\n",
    "    <th style=\"text-align: center;\">Cohort</th>\n",
    "    <th style=\"text-align: center;\">PSP Mean</th>\n",
    "    <th style=\"text-align: center;\">Control Mean</th>\n",
    "    <th style=\"text-align: center;\">Adjusted Mean</th>\n",
    "    <th style=\"text-align: center;\">PSP SD</th>\n",
    "  </tr>\n",
    "  <tr>\n",
    "    <td style=\"text-align: center;\">London</td>\n",
    "    <td style=\"text-align: center;\">72.72</td>\n",
    "    <td style=\"text-align: center;\">31.23</td>\n",
    "    <td style=\"text-align: center;\">41.49</td>\n",
    "    <td style=\"text-align: center;\">38.53</td>\n",
    "  </tr>\n",
    "  <tr>\n",
    "    <td style=\"text-align: center;\">Lund</td>\n",
    "    <td style=\"text-align: center;\">83.59</td>\n",
    "    <td style=\"text-align: center;\">22.52</td>\n",
    "    <td style=\"text-align: center;\">61.07</td>\n",
    "    <td style=\"text-align: center;\">41.46</td>\n",
    "  </tr>\n",
    "</table>\n",
    "<p><strong>Note:</strong> Adjusted mean refers to the difference between the mean NfL levels observed in the PSP patient cohort and those observed in the healthy individual cohort.</p>\n",
    "\n",
    "### Sample Size calculations\n",
    "Detect the anticipated 50% difference in  NfL plasma levels with a power of 80% at a 5% significance level for:\n",
    "#### PSP Lund\n",
    "##### Adjusted\n",
    " - Sample size calculation requires 29 patients per group\n",
    " - Considering a potential dropout rate of 20%, a total of 36 patients per arm is required, resulting in a total sample size of 72 patients.\n",
    "##### Not adjusted\n",
    " - Sample size calculation requires 15 patients per group\n",
    " - Considering a potential dropout rate of 20%, a total of 19 patients per arm is required, resulting in a total sample size of 38 patients.\n",
    "#### PSP London\n",
    "##### Adjusted\n",
    " - Sample size calculation requires 54 patients per group\n",
    " - Considering a potential dropout rate of 20%, a total of 67 patients per arm is required, resulting in a total sample size of 66 patients.\n",
    "##### Not adjusted\n",
    " - Sample size calculation requires 18 patients per group\n",
    " - Considering a potential dropout rate of 20%, a total of 22 patients per arm is required, resulting in a total sample size of 134 patients."
   ]
  },
  {
   "cell_type": "markdown",
   "metadata": {
    "pycharm": {
     "name": "#%% md\n"
    }
   },
   "source": [
    "## Conclusion\n",
    "- As no age-adjusted data was available for plasma NfL, we adjusted the mean to the control group of each cohort.\n",
    "- If an adjusted model is to be used, we would recommend using the PSP Lund Cohort.\n",
    "- If a non-adjusted model is to be used, we recommend calculating the sample size by anticipating a 60% difference in NfL plasma levels, given the low sample sizes."
   ]
  }
 ],
 "metadata": {
  "kernelspec": {
   "display_name": "Python 3 (ipykernel)",
   "language": "python",
   "name": "python3"
  },
  "language_info": {
   "codemirror_mode": {
    "name": "ipython",
    "version": 3
   },
   "file_extension": ".py",
   "mimetype": "text/x-python",
   "name": "python",
   "nbconvert_exporter": "python",
   "pygments_lexer": "ipython3",
   "version": "3.10.9"
  }
 },
 "nbformat": 4,
 "nbformat_minor": 1
}